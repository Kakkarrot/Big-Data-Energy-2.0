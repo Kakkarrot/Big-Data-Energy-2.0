{
 "cells": [
  {
   "cell_type": "code",
   "execution_count": null,
   "metadata": {},
   "outputs": [],
   "source": []
  },
  {
   "cell_type": "markdown",
   "metadata": {},
   "source": [
    "Written by:\n",
    " - Justin Tijunelis\n",
    " - Richard Lee\n",
    " - Erik Skoronski\n",
    " - QiFeng Li"
   ]
  },
  {
   "cell_type": "markdown",
   "metadata": {},
   "source": [
    "# Make a parser\n",
    "\n",
    "Parsers:\n",
    "- Parser for concurrent session data\n",
    "- Parser for httpperf-detailed output\n",
    "- Parser for httperf summary output\n",
    "- Parser for perform data (Justin)\n",
    "\n",
    "2 - 3: Justin, Richard, Willie\n",
    "4, 5, 6: Mix of everyone else, moreso Willie and Erik\n",
    "\n",
    "Before Feb. 18, finish parsers and parts 2-3. \n",
    "\n",
    "Before Feb. 25, finish 4, 5, 6 and the document. \n",
    "\n",
    "\n"
   ]
  },
  {
   "cell_type": "markdown",
   "metadata": {},
   "source": [
    "# Imports"
   ]
  },
  {
   "cell_type": "code",
   "execution_count": null,
   "metadata": {},
   "outputs": [],
   "source": [
    "import re\n",
    "import numpy as np\n",
    "import pandas as pd"
   ]
  },
  {
   "cell_type": "markdown",
   "metadata": {},
   "source": [
    "# Concurrent Session Parsing"
   ]
  },
  {
   "cell_type": "code",
   "execution_count": null,
   "metadata": {},
   "outputs": [],
   "source": [
    "# TODO: Delete this comment - Richard\n",
    "# Parse histogram data for number of concurrent users\n",
    "def parse_concurrent_session_data(file):\n",
    "  df = pd.read_csv(file)\n",
    "  # Note space in front of \"frequency\"...exact string: ' frequency of occurence'\n",
    "  df = df.rename(columns={'# of concurrent sessions': 'num_sessions', ' frequency of occurence': 'frequency'})\n",
    "  return df\n",
    "\n",
    "df = parse_concurrent_session_data(\"Case1_Data/case1-concurrent-sessions-histogram.txt\")\n",
    "print(df.head(5))"
   ]
  },
  {
   "cell_type": "markdown",
   "metadata": {},
   "source": [
    "# HTTPPerf Details Parsing"
   ]
  },
  {
   "cell_type": "code",
   "execution_count": null,
   "metadata": {},
   "outputs": [],
   "source": [
    "# Someone do this - Willie\n",
    "def parse_httperf_details(file):\n",
    "  df = pd.read_csv(file)\n",
    "  return df\n",
    "\n",
    "df = parse_httperf_details(\"Case1_Data/case1-httperf-detailed-output.csv\")\n",
    "display(df)\n",
    "df.info\n"
   ]
  },
  {
   "cell_type": "markdown",
   "metadata": {},
   "source": [
    "# HTTPerf Summary Parsing"
   ]
  },
  {
   "cell_type": "code",
   "execution_count": null,
   "metadata": {},
   "outputs": [],
   "source": [
    "# Someone do this - Erik\n",
    "def parse_httperf_summary(file):\n",
    "  if file == \"case1-httperf-detailed-output.csv\":\n",
    "    pass\n",
    "  else:\n",
    "    print(\"hi\")\n",
    "    # Return dataframe?\n",
    "df = parse_httperf_summary(\"Case1_Data/case1-httperf-summary-output.txt\")\n",
    "print(df)"
   ]
  },
  {
   "cell_type": "markdown",
   "metadata": {},
   "source": [
    "# Perfmon Parsing"
   ]
  },
  {
   "cell_type": "code",
   "execution_count": null,
   "metadata": {},
   "outputs": [],
   "source": [
    "def parse_perfmon(file):\n",
    "  df = pd.read_csv(file, sep=',')\n",
    "  df = df.rename(columns={\n",
    "    '\\PhysicalDisk(_Total)\\% Disk Time': 'dis',\n",
    "    '\\Memory\\Available Bytes': 'available_bytes',\n",
    "    '\\Memory\\Cache Bytes': 'cache_bytes',\n",
    "    '\\Memory\\Cache Faults/sec': 'cache_faults/sec',\n",
    "    '\\Memory\\Page Faults/sec': 'page_faults/sec',\n",
    "    '\\Memory\\Page Reads/sec': 'page_reads/sec',\n",
    "    '\\Memory\\Page Writes/sec': 'page_writes/sec',\n",
    "    '\\Memory\\Pages Input/sec': 'pages_input/sec',\n",
    "    '\\Memory\\Pages Output/sec': 'pages_output/sec',\n",
    "    '\\Memory\\Pool Nonpaged Bytes': ''\n",
    "  })\n",
    "  display(df)\n",
    "  \n",
    "\n",
    "parse_perfmon(\"./Case1_Data/case1-perfmon-data.csv\")"
   ]
  },
  {
   "cell_type": "markdown",
   "metadata": {},
   "source": [
    "# Case 1 Data"
   ]
  },
  {
   "cell_type": "markdown",
   "metadata": {},
   "source": [
    "# Case 2 Data"
   ]
  }
 ],
 "metadata": {
  "interpreter": {
   "hash": "31f2aee4e71d21fbe5cf8b01ff0e069b9275f58929596ceb00d14d90e3e16cd6"
  },
  "kernelspec": {
   "display_name": "Python 3.8.9 64-bit",
   "language": "python",
   "name": "python3"
  },
  "language_info": {
   "codemirror_mode": {
    "name": "ipython",
    "version": 3
   },
   "file_extension": ".py",
   "mimetype": "text/x-python",
   "name": "python",
   "nbconvert_exporter": "python",
   "pygments_lexer": "ipython3",
   "version": "3.8.8"
  },
  "orig_nbformat": 4
 },
 "nbformat": 4,
 "nbformat_minor": 2
}
